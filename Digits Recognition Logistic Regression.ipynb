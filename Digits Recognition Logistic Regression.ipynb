{
 "cells": [
  {
   "cell_type": "code",
   "execution_count": 1,
   "metadata": {},
   "outputs": [
    {
     "data": {
      "text/plain": [
       "{'X': array([[0., 0., 0., ..., 0., 0., 0.],\n",
       "        [0., 0., 0., ..., 0., 0., 0.],\n",
       "        [0., 0., 0., ..., 0., 0., 0.],\n",
       "        ...,\n",
       "        [0., 0., 0., ..., 0., 0., 0.],\n",
       "        [0., 0., 0., ..., 0., 0., 0.],\n",
       "        [0., 0., 0., ..., 0., 0., 0.]]),\n",
       " '__globals__': [],\n",
       " '__header__': b'MATLAB 5.0 MAT-file, Platform: GLNXA64, Created on: Sun Oct 16 13:09:09 2011',\n",
       " '__version__': '1.0',\n",
       " 'y': array([[10],\n",
       "        [10],\n",
       "        [10],\n",
       "        ...,\n",
       "        [ 9],\n",
       "        [ 9],\n",
       "        [ 9]], dtype=uint8)}"
      ]
     },
     "execution_count": 1,
     "metadata": {},
     "output_type": "execute_result"
    }
   ],
   "source": [
    "import pandas as np\n",
    "import numpy as np\n",
    "\n",
    "from scipy.io import loadmat\n",
    "data = loadmat('ex3data1.mat')\n",
    "data"
   ]
  },
  {
   "cell_type": "code",
   "execution_count": 44,
   "metadata": {},
   "outputs": [
    {
     "data": {
      "text/plain": [
       "(-0.5, 399.5, 19.5, -0.5)"
      ]
     },
     "execution_count": 44,
     "metadata": {},
     "output_type": "execute_result"
    },
    {
     "data": {
      "image/png": "[encoded data removed]",
      "text/plain": [
       "<matplotlib.figure.Figure at 0x1ffc918ad68>"
      ]
     },
     "metadata": {},
     "output_type": "display_data"
    }
   ],
   "source": [
    "import matplotlib as mpl\n",
    "import matplotlib.pyplot as plt\n",
    "\n",
    "sample = np.random.choice(X.shape[0], 20)\n",
    "plt.imshow(X[sample,1:].reshape(-1,20).T)\n",
    "plt.axis('off')"
   ]
  },
  {
   "cell_type": "code",
   "execution_count": 2,
   "metadata": {},
   "outputs": [
    {
     "name": "stdout",
     "output_type": "stream",
     "text": [
      "(5000, 400)\n",
      "(5000, 1)\n"
     ]
    }
   ],
   "source": [
    "# data is a dictionary so df.head() not applied\n",
    "# X , y are ndarrays so df.insert() not applied to add a column of ones\n",
    "X = data['X']\n",
    "y = data['y']\n",
    "\n",
    "print(X.shape)\n",
    "print(y.shape)\n",
    "#print(y.max() - y.min() + 1)"
   ]
  },
  {
   "cell_type": "code",
   "execution_count": 3,
   "metadata": {},
   "outputs": [
    {
     "name": "stdout",
     "output_type": "stream",
     "text": [
      "5000\n"
     ]
    },
    {
     "data": {
      "text/plain": [
       "(5000, 401)"
      ]
     },
     "execution_count": 3,
     "metadata": {},
     "output_type": "execute_result"
    }
   ],
   "source": [
    "# Adding a column of ones\n",
    "m = X.shape[0]\n",
    "print(m)\n",
    "\n",
    "X = np.c_[np.ones((m,1)),X]\n",
    "X.shape"
   ]
  },
  {
   "cell_type": "markdown",
   "metadata": {},
   "source": [
    "np.c_ concatenates along second axis ie; (5000, 1 + 400)  = (5000,401)"
   ]
  },
  {
   "cell_type": "code",
   "execution_count": 4,
   "metadata": {},
   "outputs": [],
   "source": [
    "def sigmoid(z):\n",
    "    s = 1 / (1 + np.exp(-z))\n",
    "    return s"
   ]
  },
  {
   "cell_type": "code",
   "execution_count": 5,
   "metadata": {},
   "outputs": [],
   "source": [
    "# Regularized Cost Function\n",
    "def regcost(theta, X, y, lambdaa):\n",
    "    z = np.dot(X, theta.reshape(-1,1)) # m = (5000,401) * (401,1) = (5000,1)\n",
    "    h = sigmoid(z)\n",
    "    J = (-1/len(y)) * np.sum(y * np.log(h) + (1 - y) * np.log(1 - h)) + (lambdaa/(2*len(y))) * np.sum(theta[1:] ** 2)\n",
    "    return J"
   ]
  },
  {
   "cell_type": "code",
   "execution_count": 6,
   "metadata": {},
   "outputs": [],
   "source": [
    "# Regularixed gradient\n",
    "def RegGrad(theta, X, y, lambdaa):\n",
    "    z = np.dot(X, theta.reshape(-1,1)) # m = (5000,1)\n",
    "    h = sigmoid(z)\n",
    "    error = (h - y)\n",
    "    grad = (1/len(y)) * np.dot(X.T, error) +  (lambdaa / len(y)) * np.r_[[[0]],theta[1:].reshape(-1,1)]\n",
    "    return grad.flatten()"
   ]
  },
  {
   "cell_type": "markdown",
   "metadata": {},
   "source": [
    "#### Test cases for our regularized cost and gradient function"
   ]
  },
  {
   "cell_type": "code",
   "execution_count": 7,
   "metadata": {},
   "outputs": [],
   "source": [
    "theta_test = np.array([-2,-1,1,2]) # Creating rank - 1 array of (4,)\n",
    "#print(theta_t.shape)\n",
    "\n",
    "t = np.arange(1,16).reshape(3, 5) / 10\n",
    "v = t.T\n",
    "X_test = np.c_[np.ones((5,1)), v]\n",
    "#print(X_t)\n",
    "\n",
    "y_test = np.array([[1], [0], [1], [0], [1]])\n",
    "#print(y_t.shape)\n",
    "\n",
    "lambdaa_test = 3"
   ]
  },
  {
   "cell_type": "code",
   "execution_count": 8,
   "metadata": {},
   "outputs": [
    {
     "data": {
      "text/plain": [
       "2.534819396109744"
      ]
     },
     "execution_count": 8,
     "metadata": {},
     "output_type": "execute_result"
    }
   ],
   "source": [
    "regcost(theta_test, X_test, y_test, lambdaa_test)"
   ]
  },
  {
   "cell_type": "code",
   "execution_count": 9,
   "metadata": {},
   "outputs": [
    {
     "data": {
      "text/plain": [
       "array([ 0.14656137, -0.54855841,  0.72472227,  1.39800296])"
      ]
     },
     "execution_count": 9,
     "metadata": {},
     "output_type": "execute_result"
    }
   ],
   "source": [
    "RegGrad(theta_test, X_test, y_test, lambdaa_test)"
   ]
  },
  {
   "cell_type": "markdown",
   "metadata": {},
   "source": [
    "### One - Vs - All Training"
   ]
  },
  {
   "cell_type": "markdown",
   "metadata": {},
   "source": [
    "We initialize a matrix of zeros, theta_all, which holds all the trained parameters. Each row theta_all represents a class and the columns of theta_all represent all the parameters $\\theta_0 \\dots \\theta_n$ associated with predictions for that class.\n",
    "\n",
    "One-vs-all classification is implemented by iteratively training the parameters for each class k. In each iteration, the use of the grdtruth vector ensures all instances of k in our training dataset are given the label 1, while all other instances that are not k are given the label 0. This is the essence of the one-vs-all method.\n",
    "\n",
    "Choice of optimization algorithm used is specified through a string following the choices supported by scipy.optimize.minimize.\n",
    "\n",
    "The grdtruth vector for each iteration is passed into the optimization routine as the vector of class labels. The theta_all array is indexed row by row in each iteration to first pass a vector of 0 (as the parameters are first initialized to zeros) into the optimization routine, and the trained parameters then being stored directly in that same row, overwriting the old zeros in place.\n",
    "\n",
    "Regularization parameter $\\lambda$ is kept at a constant value of 0.1 through all iterations.\n",
    "\n",
    "The matrix of trained parameters is returned at the end of training."
   ]
  },
  {
   "cell_type": "code",
   "execution_count": 10,
   "metadata": {},
   "outputs": [],
   "source": [
    "from scipy.optimize import minimize\n",
    "\n",
    "# One - Vs - All Classifier\n",
    "def OneVsAll(X, y , num_labels, opt_method):\n",
    "    \n",
    "    all_theta = np.zeros((num_labels, X.shape[1])) # (10,401)\n",
    "    \n",
    "    initial_theta = np.zeros(X.shape[1]) # (401,)\n",
    "    \n",
    "    # class k has values from 1 to 10, where digit '0' is mapped to label 10 to avoid confusion with octave indexing.\n",
    "    for k in range(1, num_labels + 1):\n",
    "        # y contains values from 1 to 10.\n",
    "        # In each iteration, the use of y_bool vector ensures all instances of of k in our training dataset are given the label 1, \n",
    "        # while all other instances that are not k are given the label 0. This is the essence of the one-vs-all method. \n",
    "        y_bool = np.where(y == k, 1, 0)\n",
    "        \n",
    "        res = minimize(regcost, x0 = initial_theta, args = (X, y_bool, 0.1), method = opt_method, jac = RegGrad)\n",
    "        \n",
    "        theta_optimized = res.x \n",
    "        \n",
    "        # i = 0; copy theta_optimized vector into 1st row of all_theta matrix\n",
    "        # i = 1; copy theta_optimized vector into 2nd row of all_theta matrix and so on \n",
    "        # In python index begins from 0, as there are 10 classes so iterating from 0, ....,9\n",
    "        all_theta[k-1, :] = theta_optimized\n",
    "        \n",
    "    return (all_theta)"
   ]
  },
  {
   "cell_type": "code",
   "execution_count": 11,
   "metadata": {},
   "outputs": [],
   "source": [
    "# Optimization performed using Conjugate Gradient\n",
    "all_theta_optimized_CG = OneVsAll(X, y, 10, 'CG')\n",
    "\n",
    "# Optimization performed using BFGS\n",
    "all_theta_optimized_bfgs = OneVsAll(X, y, 10, 'BFGS')"
   ]
  },
  {
   "cell_type": "markdown",
   "metadata": {},
   "source": [
    "### One - Vs - All Prediction\n",
    "We now use our trained classifiers to predict the digit contained in a given image.\n",
    "\n",
    "#### predictOnevsAll() implementation notes\n",
    "We can vectorize the prediction computation after a transpose of the matrix containining all of our trained parameters for every class $\\theta_0, \\theta_1 \\dots \\theta_9$, called theta_all. We can then multiply the design/model matrix, X_bias with theta_all, and apply the sigmoid() function to every element.\n",
    "\n",
    "Each row of the resulting matrix will represent the probability values associated with each class for each image in our training dataset. The class whose prediction has the highest probability value will be the class that this image is predicted to belong to. Taking np.argmax along axis=1 ensures that the index position of the largest probability value for each row (and hence each image) is returned.\n",
    "\n",
    "Lastly, adding one to the resulting indices will give us the predicted class, by ensuring that we match the MATLAB/Octave convention where indexing begins at 1 and being consistent with class labels ranging from 1 to 10 as in the provided global ground truth vector y."
   ]
  },
  {
   "cell_type": "code",
   "execution_count": 12,
   "metadata": {},
   "outputs": [],
   "source": [
    "def predictOneVsAll(X, theta):\n",
    "    z = np.dot(X, theta.T)\n",
    "    probability = sigmoid(z)\n",
    "    \n",
    "    # Adding one because Python uses zero based indexing for the 10 columns (0-9),\n",
    "    # while the 10 classes are numbered from 1 to 10.\n",
    "    return np.mean(np.argmax(probability, axis=1) + 1 == y.ravel()) * 100"
   ]
  },
  {
   "cell_type": "code",
   "execution_count": 13,
   "metadata": {},
   "outputs": [
    {
     "data": {
      "text/plain": [
       "96.46000000000001"
      ]
     },
     "execution_count": 13,
     "metadata": {},
     "output_type": "execute_result"
    }
   ],
   "source": [
    "predictOneVsAll(X,all_theta_optimized_CG)"
   ]
  },
  {
   "cell_type": "code",
   "execution_count": 14,
   "metadata": {},
   "outputs": [
    {
     "data": {
      "text/plain": [
       "96.48"
      ]
     },
     "execution_count": 14,
     "metadata": {},
     "output_type": "execute_result"
    }
   ],
   "source": [
    "predictOneVsAll(X,all_theta_optimized_bfgs)"
   ]
  },
  {
   "cell_type": "markdown",
   "metadata": {},
   "source": [
    "Let's see our prediction using TNC and Newton-CG"
   ]
  },
  {
   "cell_type": "code",
   "execution_count": 15,
   "metadata": {},
   "outputs": [
    {
     "data": {
      "text/plain": [
       "96.46000000000001"
      ]
     },
     "execution_count": 15,
     "metadata": {},
     "output_type": "execute_result"
    }
   ],
   "source": [
    "all_theta_optimized_tnc = OneVsAll(X, y, 10, 'TNC')\n",
    "predictOneVsAll(X,all_theta_optimized_tnc)"
   ]
  },
  {
   "cell_type": "code",
   "execution_count": 16,
   "metadata": {},
   "outputs": [
    {
     "data": {
      "text/plain": [
       "96.46000000000001"
      ]
     },
     "execution_count": 16,
     "metadata": {},
     "output_type": "execute_result"
    }
   ],
   "source": [
    "all_theta_optimized_Newton_CG = OneVsAll(X, y, 10, 'Newton-CG')\n",
    "predictOneVsAll(X,all_theta_optimized_Newton_CG)"
   ]
  },
  {
   "cell_type": "markdown",
   "metadata": {},
   "source": [
    "### Multiclass Logistic Regression with Scikit - Learn"
   ]
  },
  {
   "cell_type": "code",
   "execution_count": 17,
   "metadata": {},
   "outputs": [
    {
     "data": {
      "text/plain": [
       "LogisticRegression(C=10, class_weight=None, dual=False, fit_intercept=True,\n",
       "          intercept_scaling=1, max_iter=100, multi_class='ovr', n_jobs=1,\n",
       "          penalty='l2', random_state=None, solver='liblinear', tol=0.0001,\n",
       "          verbose=0, warm_start=False)"
      ]
     },
     "execution_count": 17,
     "metadata": {},
     "output_type": "execute_result"
    }
   ],
   "source": [
    "from sklearn.linear_model import LogisticRegression\n",
    "\n",
    "clf = LogisticRegression(C = 10, penalty = 'l2', solver = 'liblinear')\n",
    "\n",
    "# # Scikit-learn fits intercept automatically, so we exclude first column with 'ones' from X when fitting.\n",
    "clf.fit(X[:,1:], y.ravel())"
   ]
  },
  {
   "cell_type": "code",
   "execution_count": 18,
   "metadata": {},
   "outputs": [
    {
     "data": {
      "text/plain": [
       "96.5"
      ]
     },
     "execution_count": 18,
     "metadata": {},
     "output_type": "execute_result"
    }
   ],
   "source": [
    "pred2 = clf.predict(X[:,1:])\n",
    "acc = np.mean(pred2 == y.ravel()) * 100\n",
    "acc"
   ]
  },
  {
   "cell_type": "markdown",
   "metadata": {},
   "source": [
    "### Multi-class Classification with Neural Network"
   ]
  },
  {
   "cell_type": "code",
   "execution_count": 19,
   "metadata": {},
   "outputs": [
    {
     "data": {
      "text/plain": [
       "dict_keys(['__header__', '__version__', '__globals__', 'Theta1', 'Theta2'])"
      ]
     },
     "execution_count": 19,
     "metadata": {},
     "output_type": "execute_result"
    }
   ],
   "source": [
    "# Loading weights dictionary\n",
    "Weights = loadmat('ex3weights.mat')\n",
    "Weights.keys()"
   ]
  },
  {
   "cell_type": "code",
   "execution_count": 20,
   "metadata": {},
   "outputs": [
    {
     "name": "stdout",
     "output_type": "stream",
     "text": [
      "(25, 401)\n",
      "(10, 26)\n"
     ]
    }
   ],
   "source": [
    "theta1 , theta2 = Weights['Theta1'], Weights['Theta2']\n",
    "print(theta1.shape)\n",
    "print(theta2.shape)"
   ]
  },
  {
   "cell_type": "code",
   "execution_count": 40,
   "metadata": {},
   "outputs": [],
   "source": [
    "def predict(theta1, theta2, X):\n",
    "    \n",
    "    # Mapping from layer 1 to layer 2\n",
    "    a1 = X # (5000,401); We have already added one column\n",
    "    z2 = np.dot(a1, theta1.T)\n",
    "    a2 = sigmoid(z2) # (5000,25)\n",
    "\n",
    "    # Mapping from layer 2 to layer 3\n",
    "    # Adding a column of ones\n",
    "    a2 = np.c_[np.ones((z2.shape[0], 1)), a2]\n",
    "    z3 = np.dot(a2, theta2.T)\n",
    "    a3 = sigmoid(z3)\n",
    "    \n",
    "    return (np.argmax(a3, axis = 1) + 1)"
   ]
  },
  {
   "cell_type": "code",
   "execution_count": 48,
   "metadata": {},
   "outputs": [
    {
     "name": "stdout",
     "output_type": "stream",
     "text": [
      "Training set accuracy : 97.52 %\n"
     ]
    }
   ],
   "source": [
    "p = predict(theta1, theta2, X)\n",
    "acc = np.mean(p == y.ravel()) * 100\n",
    "print('Training set accuracy : ' + str(acc) + ' %')"
   ]
  }
 ],
 "metadata": {
  "kernelspec": {
   "display_name": "Python 3",
   "language": "python",
   "name": "python3"
  },
  "language_info": {
   "codemirror_mode": {
    "name": "ipython",
    "version": 3
   },
   "file_extension": ".py",
   "mimetype": "text/x-python",
   "name": "python",
   "nbconvert_exporter": "python",
   "pygments_lexer": "ipython3",
   "version": "3.6.4"
  }
 },
 "nbformat": 4,
 "nbformat_minor": 2
}
